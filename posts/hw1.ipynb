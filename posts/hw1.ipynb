{
 "cells": [
  {
   "cell_type": "raw",
   "metadata": {
    "vscode": {
     "languageId": "raw"
    }
   },
   "source": [
    "---\n",
    "title: \"hw1 -- 여러가지 리눅스 명령어\"\n",
    "author: \"권순원\"\n",
    "date: \"12/26/2024\"\n",
    "---"
   ]
  },
  {
   "cell_type": "markdown",
   "metadata": {},
   "source": [
    "# 아래를 실행해보고 사용방법을 확인하라."
   ]
  },
  {
   "cell_type": "markdown",
   "metadata": {},
   "source": [
    "# 1. head: 파일의 처음 몇 줄 출력\n",
    "head -n 3 sample.txt\n"
   ]
  },
  {
   "attachments": {
    "image.png": {
     "image/png": "[encoded data removed]"
    }
   },
   "cell_type": "markdown",
   "metadata": {},
   "source": [
    "![image.png](attachment:image.png)"
   ]
  },
  {
   "cell_type": "markdown",
   "metadata": {},
   "source": [
    "\n",
    "# 2. tail: 파일의 마지막 몇 줄 출력\n",
    "tail -n 3 sample.txt\n"
   ]
  },
  {
   "cell_type": "markdown",
   "metadata": {},
   "source": [
    "\n",
    "# 3. cat: 파일 내용 출력\n",
    "cat sample.txt\n"
   ]
  },
  {
   "cell_type": "markdown",
   "metadata": {},
   "source": [
    "\n",
    "# cat: 파일 합치기\n",
    "cat file1.txt file2.txt > combined.txt\n"
   ]
  },
  {
   "cell_type": "markdown",
   "metadata": {},
   "source": [
    "\n",
    "# 4. df -h: 디스크 사용량 확인\n",
    "df -h\n"
   ]
  },
  {
   "cell_type": "markdown",
   "metadata": {},
   "source": [
    "\n",
    "# 5. du -sh *: 디렉토리 및 파일 크기 확인\n",
    "du -sh *\n"
   ]
  },
  {
   "cell_type": "markdown",
   "metadata": {},
   "source": [
    "\n",
    "# 6. nvidia-smi: GPU 상태 확인\n",
    "nvidia-smi\n"
   ]
  },
  {
   "cell_type": "markdown",
   "metadata": {},
   "source": [
    "\n",
    "# 7. ps aux: 현재 실행 중인 프로세스 확인\n",
    "ps aux\n"
   ]
  },
  {
   "cell_type": "markdown",
   "metadata": {},
   "source": [
    "\n",
    "# 8. grep: 특정 문자열 검색\n",
    "grep \"error\" sample.txt\n"
   ]
  },
  {
   "cell_type": "markdown",
   "metadata": {},
   "source": [
    "\n",
    "# 9. |: 파이프를 사용하여 명령어 결합\n",
    "ps aux | grep python\n"
   ]
  },
  {
   "cell_type": "markdown",
   "metadata": {},
   "source": [
    "\n",
    "# 10. >: 출력 결과를 파일로 저장\n",
    "df -h > disk_usage.txt\n"
   ]
  },
  {
   "cell_type": "markdown",
   "metadata": {},
   "source": [
    "\n",
    "# 11. which: 명령어의 실행 파일 경로 확인\n",
    "which python\n"
   ]
  },
  {
   "cell_type": "markdown",
   "metadata": {},
   "source": [
    "\n",
    "# 12. find: 파일 검색\n",
    "find . -name \"sample.txt\"\n"
   ]
  },
  {
   "cell_type": "markdown",
   "metadata": {},
   "source": [
    "\n",
    "# 13. pwd: 현재 위치 확인\n",
    "pwd "
   ]
  }
 ],
 "metadata": {
  "language_info": {
   "name": "python"
  }
 },
 "nbformat": 4,
 "nbformat_minor": 2
}
